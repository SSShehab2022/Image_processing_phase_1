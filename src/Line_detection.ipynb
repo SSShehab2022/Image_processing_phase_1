{
 "cells": [
  {
   "cell_type": "code",
   "execution_count": 10,
   "id": "c20f958f-368b-4a6e-a82f-f6f1c2e506ca",
   "metadata": {},
   "outputs": [],
   "source": [
    "import cv2\n",
    "import numpy as np\n",
    "img = cv2.imread(\"lines.jpg\")"
   ]
  },
  {
   "cell_type": "code",
   "execution_count": 11,
   "id": "79f978ae-8d08-4914-8be0-21cde785ac55",
   "metadata": {},
   "outputs": [],
   "source": [
    "gray = cv2.cvtColor(img, cv2.COLOR_BGR2GRAY)\n",
    "edges = cv2.Canny(gray, 75, 150)"
   ]
  },
  {
   "cell_type": "code",
   "execution_count": 12,
   "id": "34a5774e-6747-4841-b548-343b14b46f10",
   "metadata": {},
   "outputs": [],
   "source": [
    "lines = cv2.HoughLinesP(edges, 1, np.pi/180, 50)\n"
   ]
  },
  {
   "cell_type": "code",
   "execution_count": 13,
   "id": "7606684d-ac9c-492f-8406-275c40396fe2",
   "metadata": {},
   "outputs": [],
   "source": [
    "for line in lines:\n",
    "    x1,y1,x2,y2 = line[0]\n",
    "    cv2.line(img,(x1,y1),(x2,y2),(0,255,0),3)\n",
    "    "
   ]
  },
  {
   "cell_type": "code",
   "execution_count": 14,
   "id": "56f55028-580e-4466-9eb8-1e87a2fed879",
   "metadata": {},
   "outputs": [
    {
     "data": {
      "text/plain": [
       "-1"
      ]
     },
     "execution_count": 14,
     "metadata": {},
     "output_type": "execute_result"
    }
   ],
   "source": [
    "cv2.imshow(\"Edges\",edges)\n",
    "cv2.imshow(\"Image\",img)\n",
    "cv2.waitKey(0)"
   ]
  },
  {
   "cell_type": "code",
   "execution_count": null,
   "id": "3c93986e-3e46-4733-ae53-4b3b4d02f487",
   "metadata": {},
   "outputs": [],
   "source": []
  }
 ],
 "metadata": {
  "kernelspec": {
   "display_name": "Python 3 (ipykernel)",
   "language": "python",
   "name": "python3"
  },
  "language_info": {
   "codemirror_mode": {
    "name": "ipython",
    "version": 3
   },
   "file_extension": ".py",
   "mimetype": "text/x-python",
   "name": "python",
   "nbconvert_exporter": "python",
   "pygments_lexer": "ipython3",
   "version": "3.9.12"
  }
 },
 "nbformat": 4,
 "nbformat_minor": 5
}
